{
 "cells": [
  {
   "cell_type": "markdown",
   "metadata": {},
   "source": [
    "# Creating temperature dependent variables with python"
   ]
  },
  {
   "cell_type": "markdown",
   "metadata": {},
   "source": [
    "This documentation describes the analysis and evaluation of of real mechanical tests of carbon fiber reinfoced plastics (CFRP) with temperature as the main variable.\n",
    "For computation, python will be used.\n",
    "While tensile and compressive testing in longitudinal and transverse direction showed a simple linear stress strain behavior, one can observe a nonlinear behavior under shear stress.\n",
    "Mathematically, this can be solved by using the Ramberg-Osgood (RO) Equation:\n",
    "\n",
    "\\begin{align}\n",
    "\\gamma_{12}=\\frac{\\tau_{12} + \\alpha_{\\mathrm{PL}}\\tau_{12}^{n_{\\mathrm{PL}}} }{G_{12}}\n",
    "\\end{align}"
   ]
  },
  {
   "cell_type": "markdown",
   "metadata": {},
   "source": [
    "| variable                                             | Meaning        | Unit |\n",
    "|:----------------------------------------------------:|:--------------:|:----:|\n",
    "| \\begin{align}\\gamma_{12}\\end{align}          | shear strain   |  -   |\n",
    "| \\begin{align}\\tau_{12}\\end{align}            | shear stress   | MPa  |\n",
    "| \\begin{align}G_{12}\\end{align}               | shear modulus  | MPa  |\n",
    "| \\begin{align}\\alpha_{\\mathrm{PL}}\\end{align} | RO-parameter 1 | -    |\n",
    "| \\begin{align}n_{\\mathrm{PL}}\\end{align}      | RO-parameter 2 | -    |"
   ]
  },
  {
   "cell_type": "markdown",
   "metadata": {},
   "source": [
    "There are 2 goals within this script:\n",
    "- compute the RO parameters\n",
    "- find a formula to calculate the RO parameters with temperature as the main variable\n",
    "\n",
    "The shear modulus is given by the mechanical testing and will be used."
   ]
  },
  {
   "cell_type": "markdown",
   "metadata": {},
   "source": [
    "## Import Libraries"
   ]
  },
  {
   "cell_type": "markdown",
   "metadata": {},
   "source": [
    "First, we need certain libraries for our script. These will be:\n",
    "- Numpy\n",
    "- Pandas\n",
    "- Scipy or one of its component, respectively\n",
    "- Matplotlib\n",
    "- OS\n",
    "- Glob"
   ]
  },
  {
   "cell_type": "code",
   "execution_count": 706,
   "metadata": {},
   "outputs": [],
   "source": [
    "import numpy as np\n",
    "import pandas as pd\n",
    "from scipy.optimize import curve_fit\n",
    "import matplotlib.pyplot as plt\n",
    "import os\n",
    "import glob"
   ]
  },
  {
   "cell_type": "markdown",
   "metadata": {},
   "source": [
    "For step 1 i.e. computating values for the RO parameters, we will demonstrate what the code does for 20°C only. For that, we store the values into arrays. Each values for stress and strain are stored into txt files. We need their path and open them."
   ]
  },
  {
   "cell_type": "code",
   "execution_count": 707,
   "metadata": {},
   "outputs": [],
   "source": [
    "# For simplicity, all files are stored into the same directory like this ipython notebook file.\n",
    "# These files are called \"XX-y.txt, where XX stands for a certain temperature and y the number of testing.\"\n",
    "# Furthermore, we need to get access to the files.\n",
    "\n",
    "txtfiles = glob.glob(\"*.txt\")"
   ]
  },
  {
   "cell_type": "code",
   "execution_count": 708,
   "metadata": {},
   "outputs": [
    {
     "data": {
      "text/plain": [
       "['80-4.txt',\n",
       " '40-4.txt',\n",
       " '60-2.txt',\n",
       " '20-2.txt',\n",
       " '20-4.txt',\n",
       " '40-2.txt',\n",
       " '80-3.txt',\n",
       " '80-1.txt',\n",
       " '80-2.txt',\n",
       " '20-1.txt',\n",
       " '60-4.txt',\n",
       " '100-2.txt',\n",
       " '20-3.txt',\n",
       " '100-1.txt',\n",
       " '100-3.txt',\n",
       " '60-1.txt',\n",
       " '100-5.txt',\n",
       " '40-1.txt',\n",
       " '100-4.txt',\n",
       " '40-3.txt',\n",
       " '60-3.txt',\n",
       " '40-5.txt']"
      ]
     },
     "execution_count": 708,
     "metadata": {},
     "output_type": "execute_result"
    }
   ],
   "source": [
    "txtfiles"
   ]
  },
  {
   "cell_type": "markdown",
   "metadata": {},
   "source": [
    "We only need to load these files for 20°C. I suppose that the number of xy values might not be equal, so first, let's see how many values are stored in each file. Furthermore, we need a number to know how many files are addressed.\n",
    "However, we don't know the size of each file. We don't know be default, how many files we have to deal with. Therefore we have to work with dynamic lists and cannot work with numpy arrays only.\n",
    "In order to know the lengths of each files, we save their lengths into a third array."
   ]
  },
  {
   "cell_type": "code",
   "execution_count": 709,
   "metadata": {},
   "outputs": [
    {
     "data": {
      "text/plain": [
       "[]"
      ]
     },
     "execution_count": 709,
     "metadata": {},
     "output_type": "execute_result"
    }
   ],
   "source": [
    "strains = []\n",
    "stresses = []\n",
    "lengths = []\n",
    "strains"
   ]
  },
  {
   "cell_type": "code",
   "execution_count": 710,
   "metadata": {},
   "outputs": [],
   "source": [
    "i=0\n",
    "for file in txtfiles:\n",
    "    if file[0:3] == \"20-\":\n",
    "        strains.append(np.loadtxt(file, delimiter=\"\\t\", usecols=(0)))\n",
    "        stresses.append(np.loadtxt(file, delimiter=\"\\t\", usecols=(1)))\n",
    "        lengths.append(len(strains[i]))\n",
    "        i+=1"
   ]
  },
  {
   "cell_type": "code",
   "execution_count": 711,
   "metadata": {},
   "outputs": [
    {
     "data": {
      "text/plain": [
       "[109, 99, 89, 399]"
      ]
     },
     "execution_count": 711,
     "metadata": {},
     "output_type": "execute_result"
    }
   ],
   "source": [
    "lengths"
   ]
  },
  {
   "cell_type": "markdown",
   "metadata": {},
   "source": [
    "Let's see how the strain values look within a dataframe."
   ]
  },
  {
   "cell_type": "code",
   "execution_count": 712,
   "metadata": {},
   "outputs": [
    {
     "data": {
      "text/html": [
       "<div>\n",
       "<style scoped>\n",
       "    .dataframe tbody tr th:only-of-type {\n",
       "        vertical-align: middle;\n",
       "    }\n",
       "\n",
       "    .dataframe tbody tr th {\n",
       "        vertical-align: top;\n",
       "    }\n",
       "\n",
       "    .dataframe thead th {\n",
       "        text-align: right;\n",
       "    }\n",
       "</style>\n",
       "<table border=\"1\" class=\"dataframe\">\n",
       "  <thead>\n",
       "    <tr style=\"text-align: right;\">\n",
       "      <th></th>\n",
       "      <th>0</th>\n",
       "      <th>1</th>\n",
       "      <th>2</th>\n",
       "      <th>3</th>\n",
       "      <th>4</th>\n",
       "      <th>5</th>\n",
       "      <th>6</th>\n",
       "      <th>7</th>\n",
       "      <th>8</th>\n",
       "      <th>9</th>\n",
       "      <th>...</th>\n",
       "      <th>389</th>\n",
       "      <th>390</th>\n",
       "      <th>391</th>\n",
       "      <th>392</th>\n",
       "      <th>393</th>\n",
       "      <th>394</th>\n",
       "      <th>395</th>\n",
       "      <th>396</th>\n",
       "      <th>397</th>\n",
       "      <th>398</th>\n",
       "    </tr>\n",
       "  </thead>\n",
       "  <tbody>\n",
       "    <tr>\n",
       "      <th>0</th>\n",
       "      <td>0.001030</td>\n",
       "      <td>0.001157</td>\n",
       "      <td>0.001183</td>\n",
       "      <td>0.001379</td>\n",
       "      <td>0.001554</td>\n",
       "      <td>0.001745</td>\n",
       "      <td>0.001959</td>\n",
       "      <td>0.002130</td>\n",
       "      <td>0.002275</td>\n",
       "      <td>0.002475</td>\n",
       "      <td>...</td>\n",
       "      <td>NaN</td>\n",
       "      <td>NaN</td>\n",
       "      <td>NaN</td>\n",
       "      <td>NaN</td>\n",
       "      <td>NaN</td>\n",
       "      <td>NaN</td>\n",
       "      <td>NaN</td>\n",
       "      <td>NaN</td>\n",
       "      <td>NaN</td>\n",
       "      <td>NaN</td>\n",
       "    </tr>\n",
       "    <tr>\n",
       "      <th>1</th>\n",
       "      <td>0.000444</td>\n",
       "      <td>0.000693</td>\n",
       "      <td>0.000917</td>\n",
       "      <td>0.000922</td>\n",
       "      <td>0.001236</td>\n",
       "      <td>0.001328</td>\n",
       "      <td>0.001729</td>\n",
       "      <td>0.001910</td>\n",
       "      <td>0.002128</td>\n",
       "      <td>0.002335</td>\n",
       "      <td>...</td>\n",
       "      <td>NaN</td>\n",
       "      <td>NaN</td>\n",
       "      <td>NaN</td>\n",
       "      <td>NaN</td>\n",
       "      <td>NaN</td>\n",
       "      <td>NaN</td>\n",
       "      <td>NaN</td>\n",
       "      <td>NaN</td>\n",
       "      <td>NaN</td>\n",
       "      <td>NaN</td>\n",
       "    </tr>\n",
       "    <tr>\n",
       "      <th>2</th>\n",
       "      <td>0.000552</td>\n",
       "      <td>0.000698</td>\n",
       "      <td>0.000834</td>\n",
       "      <td>0.001029</td>\n",
       "      <td>0.001276</td>\n",
       "      <td>0.001271</td>\n",
       "      <td>0.001534</td>\n",
       "      <td>0.001754</td>\n",
       "      <td>0.001938</td>\n",
       "      <td>0.002117</td>\n",
       "      <td>...</td>\n",
       "      <td>NaN</td>\n",
       "      <td>NaN</td>\n",
       "      <td>NaN</td>\n",
       "      <td>NaN</td>\n",
       "      <td>NaN</td>\n",
       "      <td>NaN</td>\n",
       "      <td>NaN</td>\n",
       "      <td>NaN</td>\n",
       "      <td>NaN</td>\n",
       "      <td>NaN</td>\n",
       "    </tr>\n",
       "    <tr>\n",
       "      <th>3</th>\n",
       "      <td>0.000470</td>\n",
       "      <td>0.000531</td>\n",
       "      <td>0.000594</td>\n",
       "      <td>0.000658</td>\n",
       "      <td>0.000723</td>\n",
       "      <td>0.000786</td>\n",
       "      <td>0.000846</td>\n",
       "      <td>0.000901</td>\n",
       "      <td>0.000951</td>\n",
       "      <td>0.000997</td>\n",
       "      <td>...</td>\n",
       "      <td>0.021945</td>\n",
       "      <td>0.022037</td>\n",
       "      <td>0.02212</td>\n",
       "      <td>0.022193</td>\n",
       "      <td>0.022261</td>\n",
       "      <td>0.022326</td>\n",
       "      <td>0.022391</td>\n",
       "      <td>0.022459</td>\n",
       "      <td>0.022531</td>\n",
       "      <td>0.022604</td>\n",
       "    </tr>\n",
       "  </tbody>\n",
       "</table>\n",
       "<p>4 rows × 399 columns</p>\n",
       "</div>"
      ],
      "text/plain": [
       "        0         1         2         3         4         5         6    \\\n",
       "0  0.001030  0.001157  0.001183  0.001379  0.001554  0.001745  0.001959   \n",
       "1  0.000444  0.000693  0.000917  0.000922  0.001236  0.001328  0.001729   \n",
       "2  0.000552  0.000698  0.000834  0.001029  0.001276  0.001271  0.001534   \n",
       "3  0.000470  0.000531  0.000594  0.000658  0.000723  0.000786  0.000846   \n",
       "\n",
       "        7         8         9      ...          389       390      391  \\\n",
       "0  0.002130  0.002275  0.002475    ...          NaN       NaN      NaN   \n",
       "1  0.001910  0.002128  0.002335    ...          NaN       NaN      NaN   \n",
       "2  0.001754  0.001938  0.002117    ...          NaN       NaN      NaN   \n",
       "3  0.000901  0.000951  0.000997    ...     0.021945  0.022037  0.02212   \n",
       "\n",
       "        392       393       394       395       396       397       398  \n",
       "0       NaN       NaN       NaN       NaN       NaN       NaN       NaN  \n",
       "1       NaN       NaN       NaN       NaN       NaN       NaN       NaN  \n",
       "2       NaN       NaN       NaN       NaN       NaN       NaN       NaN  \n",
       "3  0.022193  0.022261  0.022326  0.022391  0.022459  0.022531  0.022604  \n",
       "\n",
       "[4 rows x 399 columns]"
      ]
     },
     "execution_count": 712,
     "metadata": {},
     "output_type": "execute_result"
    }
   ],
   "source": [
    "dfstrain = pd.DataFrame(strains)\n",
    "dfstrain"
   ]
  },
  {
   "cell_type": "code",
   "execution_count": 713,
   "metadata": {},
   "outputs": [
    {
     "data": {
      "text/html": [
       "<div>\n",
       "<style scoped>\n",
       "    .dataframe tbody tr th:only-of-type {\n",
       "        vertical-align: middle;\n",
       "    }\n",
       "\n",
       "    .dataframe tbody tr th {\n",
       "        vertical-align: top;\n",
       "    }\n",
       "\n",
       "    .dataframe thead th {\n",
       "        text-align: right;\n",
       "    }\n",
       "</style>\n",
       "<table border=\"1\" class=\"dataframe\">\n",
       "  <thead>\n",
       "    <tr style=\"text-align: right;\">\n",
       "      <th></th>\n",
       "      <th>0</th>\n",
       "      <th>1</th>\n",
       "      <th>2</th>\n",
       "      <th>3</th>\n",
       "      <th>4</th>\n",
       "      <th>5</th>\n",
       "      <th>6</th>\n",
       "      <th>7</th>\n",
       "      <th>8</th>\n",
       "      <th>9</th>\n",
       "      <th>...</th>\n",
       "      <th>389</th>\n",
       "      <th>390</th>\n",
       "      <th>391</th>\n",
       "      <th>392</th>\n",
       "      <th>393</th>\n",
       "      <th>394</th>\n",
       "      <th>395</th>\n",
       "      <th>396</th>\n",
       "      <th>397</th>\n",
       "      <th>398</th>\n",
       "    </tr>\n",
       "  </thead>\n",
       "  <tbody>\n",
       "    <tr>\n",
       "      <th>0</th>\n",
       "      <td>4.298747</td>\n",
       "      <td>5.254041</td>\n",
       "      <td>6.209297</td>\n",
       "      <td>7.177150</td>\n",
       "      <td>8.182717</td>\n",
       "      <td>9.181985</td>\n",
       "      <td>10.193812</td>\n",
       "      <td>11.218198</td>\n",
       "      <td>12.223765</td>\n",
       "      <td>13.223033</td>\n",
       "      <td>...</td>\n",
       "      <td>NaN</td>\n",
       "      <td>NaN</td>\n",
       "      <td>NaN</td>\n",
       "      <td>NaN</td>\n",
       "      <td>NaN</td>\n",
       "      <td>NaN</td>\n",
       "      <td>NaN</td>\n",
       "      <td>NaN</td>\n",
       "      <td>NaN</td>\n",
       "      <td>NaN</td>\n",
       "    </tr>\n",
       "    <tr>\n",
       "      <th>1</th>\n",
       "      <td>2.399550</td>\n",
       "      <td>3.281911</td>\n",
       "      <td>4.208726</td>\n",
       "      <td>5.205330</td>\n",
       "      <td>6.163878</td>\n",
       "      <td>7.160519</td>\n",
       "      <td>8.188892</td>\n",
       "      <td>9.210904</td>\n",
       "      <td>10.232953</td>\n",
       "      <td>11.261288</td>\n",
       "      <td>...</td>\n",
       "      <td>NaN</td>\n",
       "      <td>NaN</td>\n",
       "      <td>NaN</td>\n",
       "      <td>NaN</td>\n",
       "      <td>NaN</td>\n",
       "      <td>NaN</td>\n",
       "      <td>NaN</td>\n",
       "      <td>NaN</td>\n",
       "      <td>NaN</td>\n",
       "      <td>NaN</td>\n",
       "    </tr>\n",
       "    <tr>\n",
       "      <th>2</th>\n",
       "      <td>2.442385</td>\n",
       "      <td>3.230868</td>\n",
       "      <td>4.064205</td>\n",
       "      <td>4.968054</td>\n",
       "      <td>5.942454</td>\n",
       "      <td>6.929664</td>\n",
       "      <td>7.923259</td>\n",
       "      <td>8.948937</td>\n",
       "      <td>9.981001</td>\n",
       "      <td>11.013065</td>\n",
       "      <td>...</td>\n",
       "      <td>NaN</td>\n",
       "      <td>NaN</td>\n",
       "      <td>NaN</td>\n",
       "      <td>NaN</td>\n",
       "      <td>NaN</td>\n",
       "      <td>NaN</td>\n",
       "      <td>NaN</td>\n",
       "      <td>NaN</td>\n",
       "      <td>NaN</td>\n",
       "      <td>NaN</td>\n",
       "    </tr>\n",
       "    <tr>\n",
       "      <th>3</th>\n",
       "      <td>2.215472</td>\n",
       "      <td>2.416858</td>\n",
       "      <td>2.624552</td>\n",
       "      <td>2.844860</td>\n",
       "      <td>3.058861</td>\n",
       "      <td>3.272862</td>\n",
       "      <td>3.505710</td>\n",
       "      <td>3.732288</td>\n",
       "      <td>3.952596</td>\n",
       "      <td>4.179175</td>\n",
       "      <td>...</td>\n",
       "      <td>63.15339</td>\n",
       "      <td>63.15339</td>\n",
       "      <td>63.15339</td>\n",
       "      <td>63.172274</td>\n",
       "      <td>63.191159</td>\n",
       "      <td>63.216313</td>\n",
       "      <td>63.235198</td>\n",
       "      <td>63.26666</td>\n",
       "      <td>63.285545</td>\n",
       "      <td>63.304429</td>\n",
       "    </tr>\n",
       "  </tbody>\n",
       "</table>\n",
       "<p>4 rows × 399 columns</p>\n",
       "</div>"
      ],
      "text/plain": [
       "        0         1         2         3         4         5          6    \\\n",
       "0  4.298747  5.254041  6.209297  7.177150  8.182717  9.181985  10.193812   \n",
       "1  2.399550  3.281911  4.208726  5.205330  6.163878  7.160519   8.188892   \n",
       "2  2.442385  3.230868  4.064205  4.968054  5.942454  6.929664   7.923259   \n",
       "3  2.215472  2.416858  2.624552  2.844860  3.058861  3.272862   3.505710   \n",
       "\n",
       "         7          8          9      ...           389       390       391  \\\n",
       "0  11.218198  12.223765  13.223033    ...           NaN       NaN       NaN   \n",
       "1   9.210904  10.232953  11.261288    ...           NaN       NaN       NaN   \n",
       "2   8.948937   9.981001  11.013065    ...           NaN       NaN       NaN   \n",
       "3   3.732288   3.952596   4.179175    ...      63.15339  63.15339  63.15339   \n",
       "\n",
       "         392        393        394        395       396        397        398  \n",
       "0        NaN        NaN        NaN        NaN       NaN        NaN        NaN  \n",
       "1        NaN        NaN        NaN        NaN       NaN        NaN        NaN  \n",
       "2        NaN        NaN        NaN        NaN       NaN        NaN        NaN  \n",
       "3  63.172274  63.191159  63.216313  63.235198  63.26666  63.285545  63.304429  \n",
       "\n",
       "[4 rows x 399 columns]"
      ]
     },
     "execution_count": 713,
     "metadata": {},
     "output_type": "execute_result"
    }
   ],
   "source": [
    "dfstresses = pd.DataFrame(stresses)\n",
    "dfstresses"
   ]
  },
  {
   "cell_type": "markdown",
   "metadata": {},
   "source": [
    "According to the RO equation, there is no offset. Either, we add 0 to index 0 or we compute the offset at index 0 and calibrate all values. We will do the former option."
   ]
  },
  {
   "cell_type": "code",
   "execution_count": 714,
   "metadata": {},
   "outputs": [],
   "source": [
    "for i in range(len(lengths)):\n",
    "    offsetx = strains[i][0]\n",
    "    offsety = stresses[i][0]\n",
    "    strains[i]-=offsetx\n",
    "    stresses[i]-=offsety"
   ]
  },
  {
   "cell_type": "code",
   "execution_count": 715,
   "metadata": {},
   "outputs": [
    {
     "data": {
      "text/html": [
       "<div>\n",
       "<style scoped>\n",
       "    .dataframe tbody tr th:only-of-type {\n",
       "        vertical-align: middle;\n",
       "    }\n",
       "\n",
       "    .dataframe tbody tr th {\n",
       "        vertical-align: top;\n",
       "    }\n",
       "\n",
       "    .dataframe thead th {\n",
       "        text-align: right;\n",
       "    }\n",
       "</style>\n",
       "<table border=\"1\" class=\"dataframe\">\n",
       "  <thead>\n",
       "    <tr style=\"text-align: right;\">\n",
       "      <th></th>\n",
       "      <th>0</th>\n",
       "      <th>1</th>\n",
       "      <th>2</th>\n",
       "      <th>3</th>\n",
       "      <th>4</th>\n",
       "      <th>5</th>\n",
       "      <th>6</th>\n",
       "      <th>7</th>\n",
       "      <th>8</th>\n",
       "      <th>9</th>\n",
       "      <th>...</th>\n",
       "      <th>389</th>\n",
       "      <th>390</th>\n",
       "      <th>391</th>\n",
       "      <th>392</th>\n",
       "      <th>393</th>\n",
       "      <th>394</th>\n",
       "      <th>395</th>\n",
       "      <th>396</th>\n",
       "      <th>397</th>\n",
       "      <th>398</th>\n",
       "    </tr>\n",
       "  </thead>\n",
       "  <tbody>\n",
       "    <tr>\n",
       "      <th>0</th>\n",
       "      <td>0.0</td>\n",
       "      <td>0.000127</td>\n",
       "      <td>0.000153</td>\n",
       "      <td>0.000349</td>\n",
       "      <td>0.000524</td>\n",
       "      <td>0.000716</td>\n",
       "      <td>0.000929</td>\n",
       "      <td>0.001101</td>\n",
       "      <td>0.001246</td>\n",
       "      <td>0.001445</td>\n",
       "      <td>...</td>\n",
       "      <td>NaN</td>\n",
       "      <td>NaN</td>\n",
       "      <td>NaN</td>\n",
       "      <td>NaN</td>\n",
       "      <td>NaN</td>\n",
       "      <td>NaN</td>\n",
       "      <td>NaN</td>\n",
       "      <td>NaN</td>\n",
       "      <td>NaN</td>\n",
       "      <td>NaN</td>\n",
       "    </tr>\n",
       "    <tr>\n",
       "      <th>1</th>\n",
       "      <td>0.0</td>\n",
       "      <td>0.000249</td>\n",
       "      <td>0.000473</td>\n",
       "      <td>0.000478</td>\n",
       "      <td>0.000792</td>\n",
       "      <td>0.000884</td>\n",
       "      <td>0.001285</td>\n",
       "      <td>0.001467</td>\n",
       "      <td>0.001685</td>\n",
       "      <td>0.001891</td>\n",
       "      <td>...</td>\n",
       "      <td>NaN</td>\n",
       "      <td>NaN</td>\n",
       "      <td>NaN</td>\n",
       "      <td>NaN</td>\n",
       "      <td>NaN</td>\n",
       "      <td>NaN</td>\n",
       "      <td>NaN</td>\n",
       "      <td>NaN</td>\n",
       "      <td>NaN</td>\n",
       "      <td>NaN</td>\n",
       "    </tr>\n",
       "    <tr>\n",
       "      <th>2</th>\n",
       "      <td>0.0</td>\n",
       "      <td>0.000146</td>\n",
       "      <td>0.000282</td>\n",
       "      <td>0.000477</td>\n",
       "      <td>0.000724</td>\n",
       "      <td>0.000719</td>\n",
       "      <td>0.000983</td>\n",
       "      <td>0.001202</td>\n",
       "      <td>0.001387</td>\n",
       "      <td>0.001566</td>\n",
       "      <td>...</td>\n",
       "      <td>NaN</td>\n",
       "      <td>NaN</td>\n",
       "      <td>NaN</td>\n",
       "      <td>NaN</td>\n",
       "      <td>NaN</td>\n",
       "      <td>NaN</td>\n",
       "      <td>NaN</td>\n",
       "      <td>NaN</td>\n",
       "      <td>NaN</td>\n",
       "      <td>NaN</td>\n",
       "    </tr>\n",
       "    <tr>\n",
       "      <th>3</th>\n",
       "      <td>0.0</td>\n",
       "      <td>0.000061</td>\n",
       "      <td>0.000124</td>\n",
       "      <td>0.000188</td>\n",
       "      <td>0.000253</td>\n",
       "      <td>0.000317</td>\n",
       "      <td>0.000377</td>\n",
       "      <td>0.000432</td>\n",
       "      <td>0.000481</td>\n",
       "      <td>0.000527</td>\n",
       "      <td>...</td>\n",
       "      <td>0.021476</td>\n",
       "      <td>0.021568</td>\n",
       "      <td>0.02165</td>\n",
       "      <td>0.021724</td>\n",
       "      <td>0.021791</td>\n",
       "      <td>0.021856</td>\n",
       "      <td>0.021921</td>\n",
       "      <td>0.021989</td>\n",
       "      <td>0.022061</td>\n",
       "      <td>0.022134</td>\n",
       "    </tr>\n",
       "  </tbody>\n",
       "</table>\n",
       "<p>4 rows × 399 columns</p>\n",
       "</div>"
      ],
      "text/plain": [
       "   0         1         2         3         4         5         6         7    \\\n",
       "0  0.0  0.000127  0.000153  0.000349  0.000524  0.000716  0.000929  0.001101   \n",
       "1  0.0  0.000249  0.000473  0.000478  0.000792  0.000884  0.001285  0.001467   \n",
       "2  0.0  0.000146  0.000282  0.000477  0.000724  0.000719  0.000983  0.001202   \n",
       "3  0.0  0.000061  0.000124  0.000188  0.000253  0.000317  0.000377  0.000432   \n",
       "\n",
       "        8         9      ...          389       390      391       392  \\\n",
       "0  0.001246  0.001445    ...          NaN       NaN      NaN       NaN   \n",
       "1  0.001685  0.001891    ...          NaN       NaN      NaN       NaN   \n",
       "2  0.001387  0.001566    ...          NaN       NaN      NaN       NaN   \n",
       "3  0.000481  0.000527    ...     0.021476  0.021568  0.02165  0.021724   \n",
       "\n",
       "        393       394       395       396       397       398  \n",
       "0       NaN       NaN       NaN       NaN       NaN       NaN  \n",
       "1       NaN       NaN       NaN       NaN       NaN       NaN  \n",
       "2       NaN       NaN       NaN       NaN       NaN       NaN  \n",
       "3  0.021791  0.021856  0.021921  0.021989  0.022061  0.022134  \n",
       "\n",
       "[4 rows x 399 columns]"
      ]
     },
     "execution_count": 715,
     "metadata": {},
     "output_type": "execute_result"
    }
   ],
   "source": [
    "dfstrain = pd.DataFrame(strains)\n",
    "dfstrain"
   ]
  },
  {
   "cell_type": "code",
   "execution_count": 716,
   "metadata": {},
   "outputs": [
    {
     "data": {
      "text/html": [
       "<div>\n",
       "<style scoped>\n",
       "    .dataframe tbody tr th:only-of-type {\n",
       "        vertical-align: middle;\n",
       "    }\n",
       "\n",
       "    .dataframe tbody tr th {\n",
       "        vertical-align: top;\n",
       "    }\n",
       "\n",
       "    .dataframe thead th {\n",
       "        text-align: right;\n",
       "    }\n",
       "</style>\n",
       "<table border=\"1\" class=\"dataframe\">\n",
       "  <thead>\n",
       "    <tr style=\"text-align: right;\">\n",
       "      <th></th>\n",
       "      <th>0</th>\n",
       "      <th>1</th>\n",
       "      <th>2</th>\n",
       "      <th>3</th>\n",
       "      <th>4</th>\n",
       "      <th>5</th>\n",
       "      <th>6</th>\n",
       "      <th>7</th>\n",
       "      <th>8</th>\n",
       "      <th>9</th>\n",
       "      <th>...</th>\n",
       "      <th>389</th>\n",
       "      <th>390</th>\n",
       "      <th>391</th>\n",
       "      <th>392</th>\n",
       "      <th>393</th>\n",
       "      <th>394</th>\n",
       "      <th>395</th>\n",
       "      <th>396</th>\n",
       "      <th>397</th>\n",
       "      <th>398</th>\n",
       "    </tr>\n",
       "  </thead>\n",
       "  <tbody>\n",
       "    <tr>\n",
       "      <th>0</th>\n",
       "      <td>0.0</td>\n",
       "      <td>0.955294</td>\n",
       "      <td>1.910550</td>\n",
       "      <td>2.878403</td>\n",
       "      <td>3.883969</td>\n",
       "      <td>4.883238</td>\n",
       "      <td>5.895065</td>\n",
       "      <td>6.919451</td>\n",
       "      <td>7.925018</td>\n",
       "      <td>8.924286</td>\n",
       "      <td>...</td>\n",
       "      <td>NaN</td>\n",
       "      <td>NaN</td>\n",
       "      <td>NaN</td>\n",
       "      <td>NaN</td>\n",
       "      <td>NaN</td>\n",
       "      <td>NaN</td>\n",
       "      <td>NaN</td>\n",
       "      <td>NaN</td>\n",
       "      <td>NaN</td>\n",
       "      <td>NaN</td>\n",
       "    </tr>\n",
       "    <tr>\n",
       "      <th>1</th>\n",
       "      <td>0.0</td>\n",
       "      <td>0.882361</td>\n",
       "      <td>1.809176</td>\n",
       "      <td>2.805780</td>\n",
       "      <td>3.764328</td>\n",
       "      <td>4.760969</td>\n",
       "      <td>5.789342</td>\n",
       "      <td>6.811354</td>\n",
       "      <td>7.833403</td>\n",
       "      <td>8.861738</td>\n",
       "      <td>...</td>\n",
       "      <td>NaN</td>\n",
       "      <td>NaN</td>\n",
       "      <td>NaN</td>\n",
       "      <td>NaN</td>\n",
       "      <td>NaN</td>\n",
       "      <td>NaN</td>\n",
       "      <td>NaN</td>\n",
       "      <td>NaN</td>\n",
       "      <td>NaN</td>\n",
       "      <td>NaN</td>\n",
       "    </tr>\n",
       "    <tr>\n",
       "      <th>2</th>\n",
       "      <td>0.0</td>\n",
       "      <td>0.788483</td>\n",
       "      <td>1.621820</td>\n",
       "      <td>2.525669</td>\n",
       "      <td>3.500069</td>\n",
       "      <td>4.487279</td>\n",
       "      <td>5.480874</td>\n",
       "      <td>6.506552</td>\n",
       "      <td>7.538616</td>\n",
       "      <td>8.570679</td>\n",
       "      <td>...</td>\n",
       "      <td>NaN</td>\n",
       "      <td>NaN</td>\n",
       "      <td>NaN</td>\n",
       "      <td>NaN</td>\n",
       "      <td>NaN</td>\n",
       "      <td>NaN</td>\n",
       "      <td>NaN</td>\n",
       "      <td>NaN</td>\n",
       "      <td>NaN</td>\n",
       "      <td>NaN</td>\n",
       "    </tr>\n",
       "    <tr>\n",
       "      <th>3</th>\n",
       "      <td>0.0</td>\n",
       "      <td>0.201386</td>\n",
       "      <td>0.409080</td>\n",
       "      <td>0.629388</td>\n",
       "      <td>0.843389</td>\n",
       "      <td>1.057390</td>\n",
       "      <td>1.290238</td>\n",
       "      <td>1.516816</td>\n",
       "      <td>1.737124</td>\n",
       "      <td>1.963702</td>\n",
       "      <td>...</td>\n",
       "      <td>60.937917</td>\n",
       "      <td>60.937917</td>\n",
       "      <td>60.937917</td>\n",
       "      <td>60.956802</td>\n",
       "      <td>60.975687</td>\n",
       "      <td>61.000841</td>\n",
       "      <td>61.019726</td>\n",
       "      <td>61.051188</td>\n",
       "      <td>61.070072</td>\n",
       "      <td>61.088957</td>\n",
       "    </tr>\n",
       "  </tbody>\n",
       "</table>\n",
       "<p>4 rows × 399 columns</p>\n",
       "</div>"
      ],
      "text/plain": [
       "   0         1         2         3         4         5         6         7    \\\n",
       "0  0.0  0.955294  1.910550  2.878403  3.883969  4.883238  5.895065  6.919451   \n",
       "1  0.0  0.882361  1.809176  2.805780  3.764328  4.760969  5.789342  6.811354   \n",
       "2  0.0  0.788483  1.621820  2.525669  3.500069  4.487279  5.480874  6.506552   \n",
       "3  0.0  0.201386  0.409080  0.629388  0.843389  1.057390  1.290238  1.516816   \n",
       "\n",
       "        8         9      ...            389        390        391        392  \\\n",
       "0  7.925018  8.924286    ...            NaN        NaN        NaN        NaN   \n",
       "1  7.833403  8.861738    ...            NaN        NaN        NaN        NaN   \n",
       "2  7.538616  8.570679    ...            NaN        NaN        NaN        NaN   \n",
       "3  1.737124  1.963702    ...      60.937917  60.937917  60.937917  60.956802   \n",
       "\n",
       "         393        394        395        396        397        398  \n",
       "0        NaN        NaN        NaN        NaN        NaN        NaN  \n",
       "1        NaN        NaN        NaN        NaN        NaN        NaN  \n",
       "2        NaN        NaN        NaN        NaN        NaN        NaN  \n",
       "3  60.975687  61.000841  61.019726  61.051188  61.070072  61.088957  \n",
       "\n",
       "[4 rows x 399 columns]"
      ]
     },
     "execution_count": 716,
     "metadata": {},
     "output_type": "execute_result"
    }
   ],
   "source": [
    "dfstresses = pd.DataFrame(stresses)\n",
    "dfstresses"
   ]
  },
  {
   "cell_type": "markdown",
   "metadata": {},
   "source": [
    "Because array lengths are not equal, we cannot immediately start to form a mean curve, plot and compute RO parameters. Therefore, our first goal is to handle the data as such, that all rows will contain the same number of values. Our reference is the row with the smallest number of columns. First, we need to save this number."
   ]
  },
  {
   "cell_type": "code",
   "execution_count": 717,
   "metadata": {},
   "outputs": [
    {
     "data": {
      "text/plain": [
       "89"
      ]
     },
     "execution_count": 717,
     "metadata": {},
     "output_type": "execute_result"
    }
   ],
   "source": [
    "minrow = min(lengths)\n",
    "minrow"
   ]
  },
  {
   "cell_type": "markdown",
   "metadata": {},
   "source": [
    "That means that no inner array can have more than 89 values, so we have to find a way to reduce the number. First we assume that the last element of each array is the maximum value. We use this element as the maximum possible strain and check each element of the other arrays beginning at index 89. If the value is higher we erase it from the the arrays."
   ]
  },
  {
   "cell_type": "code",
   "execution_count": 718,
   "metadata": {},
   "outputs": [
    {
     "data": {
      "text/plain": [
       "2"
      ]
     },
     "execution_count": 718,
     "metadata": {},
     "output_type": "execute_result"
    }
   ],
   "source": [
    "minplace = lengths.index(minrow)\n",
    "minplace"
   ]
  },
  {
   "cell_type": "code",
   "execution_count": 719,
   "metadata": {},
   "outputs": [
    {
     "data": {
      "text/plain": [
       "0.01940436"
      ]
     },
     "execution_count": 719,
     "metadata": {},
     "output_type": "execute_result"
    }
   ],
   "source": [
    "minstrain = strains[minplace][-1]\n",
    "minstrain"
   ]
  },
  {
   "cell_type": "markdown",
   "metadata": {},
   "source": [
    "We start in each subarray at index 89 and ignore array no. 2 and check if a value is higher than minstrain. If yes we delete every element beginning at this particular index to the last."
   ]
  },
  {
   "cell_type": "code",
   "execution_count": 720,
   "metadata": {},
   "outputs": [
    {
     "name": "stdout",
     "output_type": "stream",
     "text": [
      "[89, 89, 89, 360]\n"
     ]
    }
   ],
   "source": [
    "for i in range(len(strains)):\n",
    "    if i != minplace:\n",
    "        for j in range(minrow, len(strains[i]) - 1):\n",
    "            if strains[i][j] > minstrain:\n",
    "                strains[i] = strains[i][np.s_[:j]]\n",
    "                stresses[i] = stresses[i][np.s_[:j]]\n",
    "                lengths[i]=len(strains[i])\n",
    "                break\n",
    "print(lengths)"
   ]
  },
  {
   "cell_type": "code",
   "execution_count": 721,
   "metadata": {},
   "outputs": [
    {
     "data": {
      "text/html": [
       "<div>\n",
       "<style scoped>\n",
       "    .dataframe tbody tr th:only-of-type {\n",
       "        vertical-align: middle;\n",
       "    }\n",
       "\n",
       "    .dataframe tbody tr th {\n",
       "        vertical-align: top;\n",
       "    }\n",
       "\n",
       "    .dataframe thead th {\n",
       "        text-align: right;\n",
       "    }\n",
       "</style>\n",
       "<table border=\"1\" class=\"dataframe\">\n",
       "  <thead>\n",
       "    <tr style=\"text-align: right;\">\n",
       "      <th></th>\n",
       "      <th>0</th>\n",
       "      <th>1</th>\n",
       "      <th>2</th>\n",
       "      <th>3</th>\n",
       "      <th>4</th>\n",
       "      <th>5</th>\n",
       "      <th>6</th>\n",
       "      <th>7</th>\n",
       "      <th>8</th>\n",
       "      <th>9</th>\n",
       "      <th>...</th>\n",
       "      <th>350</th>\n",
       "      <th>351</th>\n",
       "      <th>352</th>\n",
       "      <th>353</th>\n",
       "      <th>354</th>\n",
       "      <th>355</th>\n",
       "      <th>356</th>\n",
       "      <th>357</th>\n",
       "      <th>358</th>\n",
       "      <th>359</th>\n",
       "    </tr>\n",
       "  </thead>\n",
       "  <tbody>\n",
       "    <tr>\n",
       "      <th>0</th>\n",
       "      <td>0.0</td>\n",
       "      <td>0.000127</td>\n",
       "      <td>0.000153</td>\n",
       "      <td>0.000349</td>\n",
       "      <td>0.000524</td>\n",
       "      <td>0.000716</td>\n",
       "      <td>0.000929</td>\n",
       "      <td>0.001101</td>\n",
       "      <td>0.001246</td>\n",
       "      <td>0.001445</td>\n",
       "      <td>...</td>\n",
       "      <td>NaN</td>\n",
       "      <td>NaN</td>\n",
       "      <td>NaN</td>\n",
       "      <td>NaN</td>\n",
       "      <td>NaN</td>\n",
       "      <td>NaN</td>\n",
       "      <td>NaN</td>\n",
       "      <td>NaN</td>\n",
       "      <td>NaN</td>\n",
       "      <td>NaN</td>\n",
       "    </tr>\n",
       "    <tr>\n",
       "      <th>1</th>\n",
       "      <td>0.0</td>\n",
       "      <td>0.000249</td>\n",
       "      <td>0.000473</td>\n",
       "      <td>0.000478</td>\n",
       "      <td>0.000792</td>\n",
       "      <td>0.000884</td>\n",
       "      <td>0.001285</td>\n",
       "      <td>0.001467</td>\n",
       "      <td>0.001685</td>\n",
       "      <td>0.001891</td>\n",
       "      <td>...</td>\n",
       "      <td>NaN</td>\n",
       "      <td>NaN</td>\n",
       "      <td>NaN</td>\n",
       "      <td>NaN</td>\n",
       "      <td>NaN</td>\n",
       "      <td>NaN</td>\n",
       "      <td>NaN</td>\n",
       "      <td>NaN</td>\n",
       "      <td>NaN</td>\n",
       "      <td>NaN</td>\n",
       "    </tr>\n",
       "    <tr>\n",
       "      <th>2</th>\n",
       "      <td>0.0</td>\n",
       "      <td>0.000146</td>\n",
       "      <td>0.000282</td>\n",
       "      <td>0.000477</td>\n",
       "      <td>0.000724</td>\n",
       "      <td>0.000719</td>\n",
       "      <td>0.000983</td>\n",
       "      <td>0.001202</td>\n",
       "      <td>0.001387</td>\n",
       "      <td>0.001566</td>\n",
       "      <td>...</td>\n",
       "      <td>NaN</td>\n",
       "      <td>NaN</td>\n",
       "      <td>NaN</td>\n",
       "      <td>NaN</td>\n",
       "      <td>NaN</td>\n",
       "      <td>NaN</td>\n",
       "      <td>NaN</td>\n",
       "      <td>NaN</td>\n",
       "      <td>NaN</td>\n",
       "      <td>NaN</td>\n",
       "    </tr>\n",
       "    <tr>\n",
       "      <th>3</th>\n",
       "      <td>0.0</td>\n",
       "      <td>0.000061</td>\n",
       "      <td>0.000124</td>\n",
       "      <td>0.000188</td>\n",
       "      <td>0.000253</td>\n",
       "      <td>0.000317</td>\n",
       "      <td>0.000377</td>\n",
       "      <td>0.000432</td>\n",
       "      <td>0.000481</td>\n",
       "      <td>0.000527</td>\n",
       "      <td>...</td>\n",
       "      <td>0.018892</td>\n",
       "      <td>0.018951</td>\n",
       "      <td>0.019011</td>\n",
       "      <td>0.019071</td>\n",
       "      <td>0.01913</td>\n",
       "      <td>0.019188</td>\n",
       "      <td>0.019244</td>\n",
       "      <td>0.019299</td>\n",
       "      <td>0.019351</td>\n",
       "      <td>0.019403</td>\n",
       "    </tr>\n",
       "  </tbody>\n",
       "</table>\n",
       "<p>4 rows × 360 columns</p>\n",
       "</div>"
      ],
      "text/plain": [
       "   0         1         2         3         4         5         6         7    \\\n",
       "0  0.0  0.000127  0.000153  0.000349  0.000524  0.000716  0.000929  0.001101   \n",
       "1  0.0  0.000249  0.000473  0.000478  0.000792  0.000884  0.001285  0.001467   \n",
       "2  0.0  0.000146  0.000282  0.000477  0.000724  0.000719  0.000983  0.001202   \n",
       "3  0.0  0.000061  0.000124  0.000188  0.000253  0.000317  0.000377  0.000432   \n",
       "\n",
       "        8         9      ...          350       351       352       353  \\\n",
       "0  0.001246  0.001445    ...          NaN       NaN       NaN       NaN   \n",
       "1  0.001685  0.001891    ...          NaN       NaN       NaN       NaN   \n",
       "2  0.001387  0.001566    ...          NaN       NaN       NaN       NaN   \n",
       "3  0.000481  0.000527    ...     0.018892  0.018951  0.019011  0.019071   \n",
       "\n",
       "       354       355       356       357       358       359  \n",
       "0      NaN       NaN       NaN       NaN       NaN       NaN  \n",
       "1      NaN       NaN       NaN       NaN       NaN       NaN  \n",
       "2      NaN       NaN       NaN       NaN       NaN       NaN  \n",
       "3  0.01913  0.019188  0.019244  0.019299  0.019351  0.019403  \n",
       "\n",
       "[4 rows x 360 columns]"
      ]
     },
     "execution_count": 721,
     "metadata": {},
     "output_type": "execute_result"
    }
   ],
   "source": [
    "df=pd.DataFrame(strains)\n",
    "df"
   ]
  },
  {
   "cell_type": "markdown",
   "metadata": {},
   "source": [
    "We can see the following: the values of the array with a larger number of values are much smaller. So in order to reduce the numbers of xy-values, we will procede as follows: if the value of array 3 represents the minimum in each column, we will delete the number of values equals 89."
   ]
  },
  {
   "cell_type": "code",
   "execution_count": 722,
   "metadata": {},
   "outputs": [
    {
     "data": {
      "text/plain": [
       "array([0., 0., 0., 0.])"
      ]
     },
     "execution_count": 722,
     "metadata": {},
     "output_type": "execute_result"
    }
   ],
   "source": [
    "check = np.zeros(len(lengths))\n",
    "check"
   ]
  },
  {
   "cell_type": "code",
   "execution_count": 723,
   "metadata": {},
   "outputs": [],
   "source": [
    "while len(strains[3]) > minrow:\n",
    "    for j in range(len(check)):\n",
    "        check[j] = strains[j][i]\n",
    "    if check.argmin() == 3:\n",
    "        strains[3] = np.delete(strains[3], i)\n",
    "        stresses[3] = np.delete(stresses[3], i)\n",
    "        lengths[3] = len(strains[3])\n",
    "    else:\n",
    "        i+=1"
   ]
  },
  {
   "cell_type": "code",
   "execution_count": 724,
   "metadata": {},
   "outputs": [
    {
     "data": {
      "text/plain": [
       "[89, 89, 89, 89]"
      ]
     },
     "execution_count": 724,
     "metadata": {},
     "output_type": "execute_result"
    }
   ],
   "source": [
    "lengths"
   ]
  },
  {
   "cell_type": "code",
   "execution_count": 725,
   "metadata": {},
   "outputs": [
    {
     "data": {
      "text/html": [
       "<div>\n",
       "<style scoped>\n",
       "    .dataframe tbody tr th:only-of-type {\n",
       "        vertical-align: middle;\n",
       "    }\n",
       "\n",
       "    .dataframe tbody tr th {\n",
       "        vertical-align: top;\n",
       "    }\n",
       "\n",
       "    .dataframe thead th {\n",
       "        text-align: right;\n",
       "    }\n",
       "</style>\n",
       "<table border=\"1\" class=\"dataframe\">\n",
       "  <thead>\n",
       "    <tr style=\"text-align: right;\">\n",
       "      <th></th>\n",
       "      <th>0</th>\n",
       "      <th>1</th>\n",
       "      <th>2</th>\n",
       "      <th>3</th>\n",
       "      <th>4</th>\n",
       "      <th>5</th>\n",
       "      <th>6</th>\n",
       "      <th>7</th>\n",
       "      <th>8</th>\n",
       "      <th>9</th>\n",
       "      <th>...</th>\n",
       "      <th>79</th>\n",
       "      <th>80</th>\n",
       "      <th>81</th>\n",
       "      <th>82</th>\n",
       "      <th>83</th>\n",
       "      <th>84</th>\n",
       "      <th>85</th>\n",
       "      <th>86</th>\n",
       "      <th>87</th>\n",
       "      <th>88</th>\n",
       "    </tr>\n",
       "  </thead>\n",
       "  <tbody>\n",
       "    <tr>\n",
       "      <th>0</th>\n",
       "      <td>0.0</td>\n",
       "      <td>0.000127</td>\n",
       "      <td>0.000153</td>\n",
       "      <td>0.000349</td>\n",
       "      <td>0.000524</td>\n",
       "      <td>0.000716</td>\n",
       "      <td>0.000929</td>\n",
       "      <td>0.001101</td>\n",
       "      <td>0.001246</td>\n",
       "      <td>0.001445</td>\n",
       "      <td>...</td>\n",
       "      <td>0.018664</td>\n",
       "      <td>0.018634</td>\n",
       "      <td>0.018943</td>\n",
       "      <td>0.019250</td>\n",
       "      <td>0.019559</td>\n",
       "      <td>0.019705</td>\n",
       "      <td>0.020073</td>\n",
       "      <td>0.020257</td>\n",
       "      <td>0.020689</td>\n",
       "      <td>0.020854</td>\n",
       "    </tr>\n",
       "    <tr>\n",
       "      <th>1</th>\n",
       "      <td>0.0</td>\n",
       "      <td>0.000249</td>\n",
       "      <td>0.000473</td>\n",
       "      <td>0.000478</td>\n",
       "      <td>0.000792</td>\n",
       "      <td>0.000884</td>\n",
       "      <td>0.001285</td>\n",
       "      <td>0.001467</td>\n",
       "      <td>0.001685</td>\n",
       "      <td>0.001891</td>\n",
       "      <td>...</td>\n",
       "      <td>0.018604</td>\n",
       "      <td>0.019280</td>\n",
       "      <td>0.019110</td>\n",
       "      <td>0.019324</td>\n",
       "      <td>0.019772</td>\n",
       "      <td>0.019781</td>\n",
       "      <td>0.020180</td>\n",
       "      <td>0.020326</td>\n",
       "      <td>0.020577</td>\n",
       "      <td>0.020839</td>\n",
       "    </tr>\n",
       "    <tr>\n",
       "      <th>2</th>\n",
       "      <td>0.0</td>\n",
       "      <td>0.000146</td>\n",
       "      <td>0.000282</td>\n",
       "      <td>0.000477</td>\n",
       "      <td>0.000724</td>\n",
       "      <td>0.000719</td>\n",
       "      <td>0.000983</td>\n",
       "      <td>0.001202</td>\n",
       "      <td>0.001387</td>\n",
       "      <td>0.001566</td>\n",
       "      <td>...</td>\n",
       "      <td>0.017399</td>\n",
       "      <td>0.017650</td>\n",
       "      <td>0.017921</td>\n",
       "      <td>0.018198</td>\n",
       "      <td>0.018513</td>\n",
       "      <td>0.018604</td>\n",
       "      <td>0.018847</td>\n",
       "      <td>0.019068</td>\n",
       "      <td>0.019319</td>\n",
       "      <td>0.019404</td>\n",
       "    </tr>\n",
       "    <tr>\n",
       "      <th>3</th>\n",
       "      <td>0.0</td>\n",
       "      <td>0.000061</td>\n",
       "      <td>0.000124</td>\n",
       "      <td>0.000377</td>\n",
       "      <td>0.000527</td>\n",
       "      <td>0.000728</td>\n",
       "      <td>0.000948</td>\n",
       "      <td>0.001119</td>\n",
       "      <td>0.001295</td>\n",
       "      <td>0.001460</td>\n",
       "      <td>...</td>\n",
       "      <td>0.017407</td>\n",
       "      <td>0.017701</td>\n",
       "      <td>0.017923</td>\n",
       "      <td>0.018200</td>\n",
       "      <td>0.018552</td>\n",
       "      <td>0.018616</td>\n",
       "      <td>0.018892</td>\n",
       "      <td>0.019071</td>\n",
       "      <td>0.019351</td>\n",
       "      <td>0.019403</td>\n",
       "    </tr>\n",
       "  </tbody>\n",
       "</table>\n",
       "<p>4 rows × 89 columns</p>\n",
       "</div>"
      ],
      "text/plain": [
       "    0         1         2         3         4         5         6         7   \\\n",
       "0  0.0  0.000127  0.000153  0.000349  0.000524  0.000716  0.000929  0.001101   \n",
       "1  0.0  0.000249  0.000473  0.000478  0.000792  0.000884  0.001285  0.001467   \n",
       "2  0.0  0.000146  0.000282  0.000477  0.000724  0.000719  0.000983  0.001202   \n",
       "3  0.0  0.000061  0.000124  0.000377  0.000527  0.000728  0.000948  0.001119   \n",
       "\n",
       "         8         9     ...           79        80        81        82  \\\n",
       "0  0.001246  0.001445    ...     0.018664  0.018634  0.018943  0.019250   \n",
       "1  0.001685  0.001891    ...     0.018604  0.019280  0.019110  0.019324   \n",
       "2  0.001387  0.001566    ...     0.017399  0.017650  0.017921  0.018198   \n",
       "3  0.001295  0.001460    ...     0.017407  0.017701  0.017923  0.018200   \n",
       "\n",
       "         83        84        85        86        87        88  \n",
       "0  0.019559  0.019705  0.020073  0.020257  0.020689  0.020854  \n",
       "1  0.019772  0.019781  0.020180  0.020326  0.020577  0.020839  \n",
       "2  0.018513  0.018604  0.018847  0.019068  0.019319  0.019404  \n",
       "3  0.018552  0.018616  0.018892  0.019071  0.019351  0.019403  \n",
       "\n",
       "[4 rows x 89 columns]"
      ]
     },
     "execution_count": 725,
     "metadata": {},
     "output_type": "execute_result"
    }
   ],
   "source": [
    "pd.DataFrame(strains)"
   ]
  },
  {
   "cell_type": "code",
   "execution_count": 726,
   "metadata": {},
   "outputs": [
    {
     "data": {
      "text/html": [
       "<div>\n",
       "<style scoped>\n",
       "    .dataframe tbody tr th:only-of-type {\n",
       "        vertical-align: middle;\n",
       "    }\n",
       "\n",
       "    .dataframe tbody tr th {\n",
       "        vertical-align: top;\n",
       "    }\n",
       "\n",
       "    .dataframe thead th {\n",
       "        text-align: right;\n",
       "    }\n",
       "</style>\n",
       "<table border=\"1\" class=\"dataframe\">\n",
       "  <thead>\n",
       "    <tr style=\"text-align: right;\">\n",
       "      <th></th>\n",
       "      <th>0</th>\n",
       "      <th>1</th>\n",
       "      <th>2</th>\n",
       "      <th>3</th>\n",
       "      <th>4</th>\n",
       "      <th>5</th>\n",
       "      <th>6</th>\n",
       "      <th>7</th>\n",
       "      <th>8</th>\n",
       "      <th>9</th>\n",
       "      <th>...</th>\n",
       "      <th>79</th>\n",
       "      <th>80</th>\n",
       "      <th>81</th>\n",
       "      <th>82</th>\n",
       "      <th>83</th>\n",
       "      <th>84</th>\n",
       "      <th>85</th>\n",
       "      <th>86</th>\n",
       "      <th>87</th>\n",
       "      <th>88</th>\n",
       "    </tr>\n",
       "  </thead>\n",
       "  <tbody>\n",
       "    <tr>\n",
       "      <th>0</th>\n",
       "      <td>0.0</td>\n",
       "      <td>0.955294</td>\n",
       "      <td>1.910550</td>\n",
       "      <td>2.878403</td>\n",
       "      <td>3.883969</td>\n",
       "      <td>4.883238</td>\n",
       "      <td>5.895065</td>\n",
       "      <td>6.919451</td>\n",
       "      <td>7.925018</td>\n",
       "      <td>8.924286</td>\n",
       "      <td>...</td>\n",
       "      <td>54.658126</td>\n",
       "      <td>54.978656</td>\n",
       "      <td>55.267734</td>\n",
       "      <td>55.537992</td>\n",
       "      <td>55.833367</td>\n",
       "      <td>56.116184</td>\n",
       "      <td>56.380144</td>\n",
       "      <td>56.650364</td>\n",
       "      <td>56.882908</td>\n",
       "      <td>57.121751</td>\n",
       "    </tr>\n",
       "    <tr>\n",
       "      <th>1</th>\n",
       "      <td>0.0</td>\n",
       "      <td>0.882361</td>\n",
       "      <td>1.809176</td>\n",
       "      <td>2.805780</td>\n",
       "      <td>3.764328</td>\n",
       "      <td>4.760969</td>\n",
       "      <td>5.789342</td>\n",
       "      <td>6.811354</td>\n",
       "      <td>7.833403</td>\n",
       "      <td>8.861738</td>\n",
       "      <td>...</td>\n",
       "      <td>57.512598</td>\n",
       "      <td>57.849040</td>\n",
       "      <td>58.185482</td>\n",
       "      <td>58.515562</td>\n",
       "      <td>58.832958</td>\n",
       "      <td>59.137668</td>\n",
       "      <td>59.429655</td>\n",
       "      <td>59.689948</td>\n",
       "      <td>59.988297</td>\n",
       "      <td>60.254913</td>\n",
       "    </tr>\n",
       "    <tr>\n",
       "      <th>2</th>\n",
       "      <td>0.0</td>\n",
       "      <td>0.788483</td>\n",
       "      <td>1.621820</td>\n",
       "      <td>2.525669</td>\n",
       "      <td>3.500069</td>\n",
       "      <td>4.487279</td>\n",
       "      <td>5.480874</td>\n",
       "      <td>6.506552</td>\n",
       "      <td>7.538616</td>\n",
       "      <td>8.570679</td>\n",
       "      <td>...</td>\n",
       "      <td>55.046127</td>\n",
       "      <td>55.366645</td>\n",
       "      <td>55.680776</td>\n",
       "      <td>55.982059</td>\n",
       "      <td>56.296152</td>\n",
       "      <td>56.571815</td>\n",
       "      <td>56.828206</td>\n",
       "      <td>57.110293</td>\n",
       "      <td>57.360298</td>\n",
       "      <td>57.584645</td>\n",
       "    </tr>\n",
       "    <tr>\n",
       "      <th>3</th>\n",
       "      <td>0.0</td>\n",
       "      <td>0.201386</td>\n",
       "      <td>0.409080</td>\n",
       "      <td>1.290238</td>\n",
       "      <td>1.963702</td>\n",
       "      <td>3.153247</td>\n",
       "      <td>5.028833</td>\n",
       "      <td>5.740067</td>\n",
       "      <td>6.476455</td>\n",
       "      <td>7.193959</td>\n",
       "      <td>...</td>\n",
       "      <td>56.966436</td>\n",
       "      <td>57.293707</td>\n",
       "      <td>57.539170</td>\n",
       "      <td>57.872749</td>\n",
       "      <td>58.256674</td>\n",
       "      <td>58.325943</td>\n",
       "      <td>58.728752</td>\n",
       "      <td>58.936446</td>\n",
       "      <td>59.288909</td>\n",
       "      <td>59.358140</td>\n",
       "    </tr>\n",
       "  </tbody>\n",
       "</table>\n",
       "<p>4 rows × 89 columns</p>\n",
       "</div>"
      ],
      "text/plain": [
       "    0         1         2         3         4         5         6         7   \\\n",
       "0  0.0  0.955294  1.910550  2.878403  3.883969  4.883238  5.895065  6.919451   \n",
       "1  0.0  0.882361  1.809176  2.805780  3.764328  4.760969  5.789342  6.811354   \n",
       "2  0.0  0.788483  1.621820  2.525669  3.500069  4.487279  5.480874  6.506552   \n",
       "3  0.0  0.201386  0.409080  1.290238  1.963702  3.153247  5.028833  5.740067   \n",
       "\n",
       "         8         9     ...             79         80         81         82  \\\n",
       "0  7.925018  8.924286    ...      54.658126  54.978656  55.267734  55.537992   \n",
       "1  7.833403  8.861738    ...      57.512598  57.849040  58.185482  58.515562   \n",
       "2  7.538616  8.570679    ...      55.046127  55.366645  55.680776  55.982059   \n",
       "3  6.476455  7.193959    ...      56.966436  57.293707  57.539170  57.872749   \n",
       "\n",
       "          83         84         85         86         87         88  \n",
       "0  55.833367  56.116184  56.380144  56.650364  56.882908  57.121751  \n",
       "1  58.832958  59.137668  59.429655  59.689948  59.988297  60.254913  \n",
       "2  56.296152  56.571815  56.828206  57.110293  57.360298  57.584645  \n",
       "3  58.256674  58.325943  58.728752  58.936446  59.288909  59.358140  \n",
       "\n",
       "[4 rows x 89 columns]"
      ]
     },
     "execution_count": 726,
     "metadata": {},
     "output_type": "execute_result"
    }
   ],
   "source": [
    "pd.DataFrame(stresses)"
   ]
  },
  {
   "cell_type": "markdown",
   "metadata": {},
   "source": [
    "Now, we have an equal number of xy values and we can compute mean curves and do curve fits."
   ]
  },
  {
   "cell_type": "markdown",
   "metadata": {},
   "source": [
    "# Plotting for Ramberg-Osgood Fit"
   ]
  },
  {
   "cell_type": "code",
   "execution_count": 727,
   "metadata": {},
   "outputs": [],
   "source": [
    "strainsmean = np.mean(strains, 0)\n",
    "stressesmean = np.mean(stresses, 0)"
   ]
  },
  {
   "cell_type": "markdown",
   "metadata": {},
   "source": [
    "### Create subplots for preparation"
   ]
  },
  {
   "cell_type": "code",
   "execution_count": 751,
   "metadata": {},
   "outputs": [
    {
     "data": {
      "image/png": "[encoded data removed]",
      "text/plain": [
       "<Figure size 864x360 with 2 Axes>"
      ]
     },
     "metadata": {
      "needs_background": "light"
     },
     "output_type": "display_data"
    }
   ],
   "source": [
    "fig, cvs = plt.subplots(1, 2, sharex = True, sharey = True, figsize = (12,5))\n",
    "c1 = cvs[0]\n",
    "c2 = cvs[1]\n",
    "colors = ['-b', '-g', '-r', '-c', '-m']\n",
    "c1.set_title(\"Single and mean shear\")\n",
    "c2.set_title(\"Mean shear and Ramberg-Osgood-Fit\")\n",
    "c1.set_xlabel(\"$\\\\gamma_{12}$\")\n",
    "c1.set_ylabel(\"$\\\\tau_{12}$\")\n",
    "c2.set_xlabel(\"$\\\\gamma_{12}$\")\n",
    "\n",
    "# Left diagram:  Single and mean shear curves\n",
    "# Right diagram: Mean curve and Ramberg-Osgood-Fit\n",
    "\n",
    "for i in range(len(lengths)):\n",
    "    c1.plot(strains[i], stresses[i], colors[i], label = \"20-\" + str(i+1))\n",
    "c1.plot(strainsmean, stressesmean, '-k', label = \"Mean\")\n",
    "c1.legend()\n",
    "\n",
    "# For Ramberg-Osgood, we need to make a function.\n",
    "def ro20(y, a, n):\n",
    "    # measured shear modulus\n",
    "    g12 = 4436.89625250778\n",
    "    return (y + a*np.sign(y)*(np.abs(y))**n)/g12\n",
    "\n",
    "# Create Curve Fit\n",
    "popt, pcov = curve_fit(ro20, stressesmean, strainsmean, maxfev=1000000)\n",
    "\n",
    "c2.plot(strainsmean, stressesmean, 'k', label = \"Mean\")\n",
    "c2.plot(ro20(stressesmean, *popt), stressesmean, '-r', label = \"RO-Fit, $\\\\alpha_{\\mathrm{PL}}$ = %.3E, $n_{\\mathrm{PL}}$ = %3.2f\" %tuple(popt))\n",
    "c2.legend()\n",
    "plt\n",
    "\n",
    "plt.show()"
   ]
  },
  {
   "cell_type": "markdown",
   "metadata": {},
   "source": [
    "# Creating temperature dependent equation of RO Parameters"
   ]
  },
  {
   "cell_type": "markdown",
   "metadata": {},
   "source": [
    "That was step 1. Step 2 will be to find temperature dependent equations for these parameters. For that, I'll write down the values into a dataframe without demonstration of calculation."
   ]
  },
  {
   "cell_type": "code",
   "execution_count": 754,
   "metadata": {},
   "outputs": [],
   "source": [
    "temperature = np.array([20., 40., 60., 80., 100.])\n",
    "roa = np.array([8.257971E-09, 3.961905E-09, 2.403543E-11, 1.523679E-14, 2.992936E-14])\n",
    "ron = np.array([5.41, 5.70, 7.17, 9.24, 9.29])"
   ]
  },
  {
   "cell_type": "code",
   "execution_count": 766,
   "metadata": {},
   "outputs": [
    {
     "data": {
      "text/html": [
       "<div>\n",
       "<style scoped>\n",
       "    .dataframe tbody tr th:only-of-type {\n",
       "        vertical-align: middle;\n",
       "    }\n",
       "\n",
       "    .dataframe tbody tr th {\n",
       "        vertical-align: top;\n",
       "    }\n",
       "\n",
       "    .dataframe thead th {\n",
       "        text-align: right;\n",
       "    }\n",
       "</style>\n",
       "<table border=\"1\" class=\"dataframe\">\n",
       "  <thead>\n",
       "    <tr style=\"text-align: right;\">\n",
       "      <th></th>\n",
       "      <th>$\\alpha_{\\mathrm{PL}}$</th>\n",
       "      <th>$n_{\\mathrm{PL}}$</th>\n",
       "    </tr>\n",
       "  </thead>\n",
       "  <tbody>\n",
       "    <tr>\n",
       "      <th>20</th>\n",
       "      <td>8.257971e-09</td>\n",
       "      <td>5.41</td>\n",
       "    </tr>\n",
       "    <tr>\n",
       "      <th>40</th>\n",
       "      <td>3.961905e-09</td>\n",
       "      <td>5.70</td>\n",
       "    </tr>\n",
       "    <tr>\n",
       "      <th>60</th>\n",
       "      <td>2.403543e-11</td>\n",
       "      <td>7.17</td>\n",
       "    </tr>\n",
       "    <tr>\n",
       "      <th>80</th>\n",
       "      <td>1.523679e-14</td>\n",
       "      <td>9.24</td>\n",
       "    </tr>\n",
       "    <tr>\n",
       "      <th>100</th>\n",
       "      <td>2.992936e-14</td>\n",
       "      <td>9.29</td>\n",
       "    </tr>\n",
       "  </tbody>\n",
       "</table>\n",
       "</div>"
      ],
      "text/plain": [
       "     $\\alpha_{\\mathrm{PL}}$  $n_{\\mathrm{PL}}$\n",
       "20             8.257971e-09               5.41\n",
       "40             3.961905e-09               5.70\n",
       "60             2.403543e-11               7.17\n",
       "80             1.523679e-14               9.24\n",
       "100            2.992936e-14               9.29"
      ]
     },
     "execution_count": 766,
     "metadata": {},
     "output_type": "execute_result"
    }
   ],
   "source": [
    "df = pd.DataFrame({'$\\\\alpha_{\\mathrm{PL}}$': [8.257971E-09, 3.961905E-09, 2.403543E-11, 1.523679E-14, 2.992936E-14],\n",
    "                   '$n_{\\mathrm{PL}}$':        [5.41, 5.70, 7.17, 9.24, 9.29]},\n",
    "                  index = [20, 40, 60, 80, 100])\n",
    "df"
   ]
  },
  {
   "cell_type": "markdown",
   "metadata": {},
   "source": [
    "Let's look how that looks in diagrams."
   ]
  },
  {
   "cell_type": "code",
   "execution_count": 782,
   "metadata": {},
   "outputs": [
    {
     "data": {
      "image/png": "[encoded data removed]",
      "text/plain": [
       "<Figure size 864x360 with 2 Axes>"
      ]
     },
     "metadata": {
      "needs_background": "light"
     },
     "output_type": "display_data"
    }
   ],
   "source": [
    "fig, ax = plt.subplots(1, 2, sharex = True, figsize=(12,5))\n",
    "ax1=ax[0]\n",
    "ax2=ax[1]\n",
    "\n",
    "ax1.set_xlabel('$T$  $[\\mathrm{°C}]$')\n",
    "ax2.set_xlabel('$T$  $[\\mathrm{°C}]$')\n",
    "\n",
    "ax1.set_ylabel('$\\\\alpha_\\mathrm{PL}$')\n",
    "ax2.set_ylabel('$n_\\mathrm{PL}$')\n",
    "\n",
    "ax1.set_yscale('log')\n",
    "\n",
    "ax1.scatter(temperature, roa)\n",
    "ax2.scatter(temperature, ron)\n",
    "\n",
    "plt.show()"
   ]
  },
  {
   "cell_type": "markdown",
   "metadata": {},
   "source": [
    "As we can see, both plots represent s-curves. One first try was to do a fit in Excel via exponential functions."
   ]
  },
  {
   "cell_type": "code",
   "execution_count": 786,
   "metadata": {},
   "outputs": [],
   "source": [
    "def expa(x, a, b):\n",
    "    return a * np.exp(b*x)\n",
    "\n",
    "a1 = 9.99753125525157e-7\n",
    "b1 = -0.187621108502736\n",
    "\n",
    "a2 = 4.48565210999464\n",
    "b2 = 0.00782273153739\n",
    "\n",
    "x1 = np.linspace(20, 100, 1000)\n",
    "y1 = expa(x1, a1, b1)\n",
    "y2 = expa(x1, a2, b2)"
   ]
  },
  {
   "cell_type": "code",
   "execution_count": 787,
   "metadata": {},
   "outputs": [
    {
     "data": {
      "image/png": "[encoded data removed]",
      "text/plain": [
       "<Figure size 864x360 with 2 Axes>"
      ]
     },
     "metadata": {
      "needs_background": "light"
     },
     "output_type": "display_data"
    }
   ],
   "source": [
    "fig, ax = plt.subplots(1, 2, sharex = True, figsize=(12,5))\n",
    "ax1=ax[0]\n",
    "ax2=ax[1]\n",
    "\n",
    "ax1.set_xlabel('$T$  $[\\mathrm{°C}]$')\n",
    "ax2.set_xlabel('$T$  $[\\mathrm{°C}]$')\n",
    "\n",
    "ax1.set_ylabel('$\\\\alpha_\\mathrm{PL}$')\n",
    "ax2.set_ylabel('$n_\\mathrm{PL}$')\n",
    "\n",
    "ax1.set_yscale('log')\n",
    "\n",
    "ax1.scatter(temperature, roa)\n",
    "ax2.scatter(temperature, ron)\n",
    "\n",
    "ax1.plot(x1, y1, '-b', label='exponential function')\n",
    "ax2.plot(x1, y2, '-b', label='exponential function')\n",
    "\n",
    "ax1.legend()\n",
    "ax2.legend()\n",
    "plt.show()"
   ]
  },
  {
   "cell_type": "markdown",
   "metadata": {},
   "source": [
    "That is ok, but there is a formular that represents an s-curve:\n",
    "\n",
    "\\begin{align}\n",
    "y=\\arctan(x)\n",
    "\\end{align}"
   ]
  },
  {
   "cell_type": "code",
   "execution_count": 796,
   "metadata": {},
   "outputs": [
    {
     "name": "stderr",
     "output_type": "stream",
     "text": [
      "/usr/lib/python3/dist-packages/scipy/optimize/minpack.py:787: OptimizeWarning: Covariance of the parameters could not be estimated\n",
      "  category=OptimizeWarning)\n"
     ]
    }
   ],
   "source": [
    "def eatan(x, a, b, c, d, e):\n",
    "    return a*np.exp(b*np.arctan(c*x+d)+e)\n",
    "\n",
    "def atan(x, a, b, c, d):\n",
    "    return a*np.arctan(b*x+c)+d\n",
    "\n",
    "popta, pcova = curve_fit(eatan, temperature, roa, maxfev=1000000)\n",
    "poptn, pcovn = curve_fit(atan, temperature, ron, maxfev=1000000)\n",
    "\n",
    "y1a = eatan(x1, *popta)\n",
    "y1n = atan(x1, *poptn)"
   ]
  },
  {
   "cell_type": "code",
   "execution_count": 798,
   "metadata": {},
   "outputs": [
    {
     "data": {
      "image/png": "[encoded data removed]",
      "text/plain": [
       "<Figure size 864x360 with 2 Axes>"
      ]
     },
     "metadata": {
      "needs_background": "light"
     },
     "output_type": "display_data"
    }
   ],
   "source": [
    "fig, ax = plt.subplots(1, 2, sharex = True, figsize=(12,5))\n",
    "ax1=ax[0]\n",
    "ax2=ax[1]\n",
    "\n",
    "ax1.set_xlabel('$T$  $[\\mathrm{°C}]$')\n",
    "ax2.set_xlabel('$T$  $[\\mathrm{°C}]$')\n",
    "\n",
    "ax1.set_ylabel('$\\\\alpha_\\mathrm{PL}$')\n",
    "ax2.set_ylabel('$n_\\mathrm{PL}$')\n",
    "\n",
    "ax1.set_yscale('log')\n",
    "\n",
    "ax1.scatter(temperature, roa)\n",
    "ax2.scatter(temperature, ron)\n",
    "\n",
    "ax1.plot(x1, y1, '-b', label='exponential function')\n",
    "ax1.plot(x1, y1a, '-r', label = 'arcus tangens function')\n",
    "\n",
    "ax2.plot(x1, y2, '-b', label='exponential function')\n",
    "ax2.plot(x1, y1n, '-r', label= 'arcus tangens function')\n",
    "\n",
    "ax1.legend()\n",
    "ax2.legend()\n",
    "plt.show()"
   ]
  },
  {
   "cell_type": "markdown",
   "metadata": {},
   "source": [
    "# Done"
   ]
  },
  {
   "cell_type": "markdown",
   "metadata": {},
   "source": [
    "We have created math equations for the Ramberg Osgood equations which we can use for further calculation and simulation."
   ]
  }
 ],
 "metadata": {
  "kernelspec": {
   "display_name": "Python 3",
   "language": "python",
   "name": "python3"
  },
  "language_info": {
   "codemirror_mode": {
    "name": "ipython",
    "version": 3
   },
   "file_extension": ".py",
   "mimetype": "text/x-python",
   "name": "python",
   "nbconvert_exporter": "python",
   "pygments_lexer": "ipython3",
   "version": "3.7.5"
  }
 },
 "nbformat": 4,
 "nbformat_minor": 2
}
